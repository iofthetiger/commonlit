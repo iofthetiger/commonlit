{
 "cells": [
  {
   "cell_type": "markdown",
   "metadata": {},
   "source": [
    "# Check on weights"
   ]
  },
  {
   "cell_type": "code",
   "execution_count": 1,
   "metadata": {},
   "outputs": [],
   "source": [
    "from forgebox.imports import *\n",
    "from forgebox.config import Config\n",
    "from forgebox.html import list_group_kv"
   ]
  },
  {
   "cell_type": "code",
   "execution_count": 2,
   "metadata": {},
   "outputs": [],
   "source": [
    "WEIGHT = Path(\"./weights\")"
   ]
  },
  {
   "cell_type": "code",
   "execution_count": 3,
   "metadata": {},
   "outputs": [],
   "source": [
    "def inspect_weight(folder):\n",
    "    fs = folder.split(\"_\" if \"_\" in folder else \"-\")\n",
    "    day = int(fs[-2][-2:])\n",
    "    time = fs[-1]\n",
    "    kaggled = WEIGHT/folder/\"dataset-metadata.json\"\n",
    "    if kaggled.exists():\n",
    "        with kaggled.open(\"r\") as f:\n",
    "            kaggled = json.loads(f.read())\n",
    "    else:\n",
    "        kaggled=False\n",
    "    Ws = list(wname for wname in (WEIGHT/folder).ls() if wname[-3:]==('.h5' if kaggled else \"kpt\"))\n",
    "    losses = list(float(w.split(\"loss-\" if kaggled else \"loss=\")[-1].split(\"fd\")[0]) for w in Ws)\n",
    "    return Config({\"name\":folder,\"day\":day,\"time\":time,\"kaggled\":kaggled, \"ws\":Ws, \"losses\":losses})"
   ]
  },
  {
   "cell_type": "code",
   "execution_count": 4,
   "metadata": {},
   "outputs": [],
   "source": [
    "def create_tag(fd):\n",
    "    loss_mean = 10 if len(fd.losses)==0 else np.array(fd.losses).mean()\n",
    "    loss_mean = f\"{loss_mean}\"[:5]\n",
    "    return f\"{fd.day}:{fd.time}[{'🦆' if fd.kaggled else '📦'}]_{fd.name}|{loss_mean}\""
   ]
  },
  {
   "cell_type": "code",
   "execution_count": 174,
   "metadata": {},
   "outputs": [
    {
     "name": "stdout",
     "output_type": "stream",
     "text": [
      "invalid literal for int() with base 10: 'bt'\n",
      "invalid literal for int() with base 10: 're'\n",
      "invalid literal for int() with base 10: 'bt'\n",
      "invalid literal for int() with base 10: 'ed'\n",
      "invalid literal for int() with base 10: 'bt'\n",
      "invalid literal for int() with base 10: 'bt'\n",
      "invalid literal for int() with base 10: 're'\n",
      "invalid literal for int() with base 10: 'bt'\n",
      "invalid literal for int() with base 10: 're'\n"
     ]
    },
    {
     "data": {
      "application/vnd.jupyter.widget-view+json": {
       "model_id": "25a034b3ba0248a4bfc5a73daf130184",
       "version_major": 2,
       "version_minor": 0
      },
      "text/plain": [
       "interactive(children=(Dropdown(description='config', options=(('24:193954[📦]_bert_cased_0724_193954|0.35', {'n…"
      ]
     },
     "metadata": {},
     "output_type": "display_data"
    }
   ],
   "source": [
    "tags = []\n",
    "for folder in WEIGHT.ls():\n",
    "    try:\n",
    "        fd = inspect_weight(folder)\n",
    "        tag = create_tag(fd)\n",
    "        tags.append((tag,fd))\n",
    "    except Exception as e:\n",
    "        print(e)\n",
    "        \n",
    "tags = sorted(tags, key = lambda x:x[0])\n",
    "    \n",
    "@interact\n",
    "def choose_weights(config = tags):\n",
    "    print(f\"!rm -rf weights/{config.name}\")\n",
    "    list_group_kv(config)()"
   ]
  },
  {
   "cell_type": "code",
   "execution_count": 163,
   "metadata": {},
   "outputs": [
    {
     "data": {
      "application/vnd.jupyter.widget-view+json": {
       "model_id": "e43bfa9e16734ca7b401b55301403b26",
       "version_major": 2,
       "version_minor": 0
      },
      "text/plain": [
       "interactive(children=(Button(description='Run Interact', style=ButtonStyle()), Output()), _dom_classes=('widge…"
      ]
     },
     "metadata": {},
     "output_type": "display_data"
    }
   ],
   "source": [
    "@interact_manual\n",
    "def refresh_folder():\n",
    "    list_group_kv(inspect_weight('PairCLS_bs2_30_162440'))()"
   ]
  },
  {
   "cell_type": "code",
   "execution_count": 169,
   "metadata": {},
   "outputs": [
    {
     "data": {
      "application/vnd.jupyter.widget-view+json": {
       "model_id": "137cebbf249544ab9d11ed560fe5e3c8",
       "version_major": 2,
       "version_minor": 0
      },
      "text/plain": [
       "interactive(children=(Button(description='Run Interact', style=ButtonStyle()), Output()), _dom_classes=('widge…"
      ]
     },
     "metadata": {},
     "output_type": "display_data"
    }
   ],
   "source": [
    "@interact_manual\n",
    "def refresh_folder():\n",
    "    list_group_kv(inspect_weight('PairCLS_bs2_30_165402'))()"
   ]
  },
  {
   "cell_type": "code",
   "execution_count": 161,
   "metadata": {},
   "outputs": [
    {
     "name": "stdout",
     "output_type": "stream",
     "text": [
      "Fri Jul 30 16:05:36 2021       \r\n",
      "+-----------------------------------------------------------------------------+\r\n",
      "| NVIDIA-SMI 450.51.06    Driver Version: 450.51.06    CUDA Version: 11.0     |\r\n",
      "|-------------------------------+----------------------+----------------------+\r\n",
      "| GPU  Name        Persistence-M| Bus-Id        Disp.A | Volatile Uncorr. ECC |\r\n",
      "| Fan  Temp  Perf  Pwr:Usage/Cap|         Memory-Usage | GPU-Util  Compute M. |\r\n",
      "|                               |                      |               MIG M. |\r\n",
      "|===============================+======================+======================|\r\n",
      "|   0  Tesla V100-PCIE...  Off  | 00000000:3B:00.0 Off |                    0 |\r\n",
      "| N/A   46C    P0    64W / 250W |   7949MiB / 32510MiB |     75%      Default |\r\n",
      "|                               |                      |                  N/A |\r\n",
      "+-------------------------------+----------------------+----------------------+\r\n",
      "|   1  Tesla V100-PCIE...  Off  | 00000000:D8:00.0 Off |                    0 |\r\n",
      "| N/A   47C    P0    53W / 250W |   6499MiB / 32510MiB |     99%      Default |\r\n",
      "|                               |                      |                  N/A |\r\n",
      "+-------------------------------+----------------------+----------------------+\r\n",
      "                                                                               \r\n",
      "+-----------------------------------------------------------------------------+\r\n",
      "| Processes:                                                                  |\r\n",
      "|  GPU   GI   CI        PID   Type   Process name                  GPU Memory |\r\n",
      "|        ID   ID                                                   Usage      |\r\n",
      "|=============================================================================|\r\n",
      "|    0   N/A  N/A     83667      C   /anaconda3/bin/python            7945MiB |\r\n",
      "|    1   N/A  N/A     83667      C   /anaconda3/bin/python            6495MiB |\r\n",
      "+-----------------------------------------------------------------------------+\r\n"
     ]
    }
   ],
   "source": [
    "!nvidia-smi"
   ]
  },
  {
   "cell_type": "code",
   "execution_count": null,
   "metadata": {},
   "outputs": [],
   "source": []
  }
 ],
 "metadata": {
  "kernelspec": {
   "display_name": "Python 3",
   "language": "python",
   "name": "python3"
  },
  "language_info": {
   "codemirror_mode": {
    "name": "ipython",
    "version": 3
   },
   "file_extension": ".py",
   "mimetype": "text/x-python",
   "name": "python",
   "nbconvert_exporter": "python",
   "pygments_lexer": "ipython3",
   "version": "3.7.6"
  },
  "toc": {
   "base_numbering": 1,
   "nav_menu": {},
   "number_sections": true,
   "sideBar": true,
   "skip_h1_title": false,
   "title_cell": "Table of Contents",
   "title_sidebar": "Contents",
   "toc_cell": false,
   "toc_position": {},
   "toc_section_display": true,
   "toc_window_display": false
  }
 },
 "nbformat": 4,
 "nbformat_minor": 4
}
