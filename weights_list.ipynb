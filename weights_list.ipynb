{
 "cells": [
  {
   "cell_type": "markdown",
   "metadata": {},
   "source": [
    "# Check on weights"
   ]
  },
  {
   "cell_type": "code",
   "execution_count": 160,
   "metadata": {},
   "outputs": [],
   "source": [
    "from forgebox.imports import *\n",
    "from forgebox.config import Config\n",
    "from forgebox.html import list_group_kv"
   ]
  },
  {
   "cell_type": "code",
   "execution_count": 161,
   "metadata": {},
   "outputs": [],
   "source": [
    "WEIGHT = Path(\"./weights\")"
   ]
  },
  {
   "cell_type": "code",
   "execution_count": 162,
   "metadata": {},
   "outputs": [],
   "source": [
    "def inspect_weight(folder):\n",
    "    fs = folder.split(\"_\" if \"_\" in folder else \"-\")\n",
    "    day = int(fs[-2][-2:])\n",
    "    time = fs[-1]\n",
    "    kaggled = WEIGHT/folder/\"dataset-metadata.json\"\n",
    "    if kaggled.exists():\n",
    "        with kaggled.open(\"r\") as f:\n",
    "            kaggled = json.loads(f.read())\n",
    "    else:\n",
    "        kaggled=False\n",
    "    Ws = list(wname for wname in (WEIGHT/folder).ls() if wname[-3:]==('.h5' if kaggled else \"kpt\"))\n",
    "    losses = list(float(w.split(\"loss-\" if kaggled else \"loss=\")[-1].split(\"fd\")[0]) for w in Ws)\n",
    "    return Config({\"name\":folder,\"day\":day,\"time\":time,\"kaggled\":kaggled, \"ws\":Ws, \"losses\":losses})"
   ]
  },
  {
   "cell_type": "code",
   "execution_count": 163,
   "metadata": {},
   "outputs": [],
   "source": [
    "def create_tag(fd):\n",
    "    loss_mean = 10 if len(fd.losses)==0 else np.array(fd.losses).mean()\n",
    "    loss_mean = f\"{loss_mean}\"[:5]\n",
    "    return f\"{fd.day}:{fd.time}[{'🦆' if fd.kaggled else '📦'}]_{fd.name}|{loss_mean}\""
   ]
  },
  {
   "cell_type": "code",
   "execution_count": 168,
   "metadata": {},
   "outputs": [
    {
     "name": "stdout",
     "output_type": "stream",
     "text": [
      "invalid literal for int() with base 10: 're'\n",
      "invalid literal for int() with base 10: 'bt'\n"
     ]
    },
    {
     "data": {
      "application/vnd.jupyter.widget-view+json": {
       "model_id": "43f3720ad5424daead4e77e1408877a7",
       "version_major": 2,
       "version_minor": 0
      },
      "text/plain": [
       "interactive(children=(Dropdown(description='config', options=(('24:193954[📦]_bert_cased_0724_193954|0.35', {'n…"
      ]
     },
     "metadata": {},
     "output_type": "display_data"
    }
   ],
   "source": [
    "tags = []\n",
    "for folder in WEIGHT.ls():\n",
    "    try:\n",
    "        fd = inspect_weight(folder)\n",
    "        tag = create_tag(fd)\n",
    "        tags.append((tag,fd))\n",
    "    except Exception as e:\n",
    "        print(e)\n",
    "        \n",
    "tags = sorted(tags, key = lambda x:x[0])\n",
    "    \n",
    "@interact\n",
    "def choose_weights(config = tags):\n",
    "    print(f\"!rm -rf weights/{config.name}\")\n",
    "    list_group_kv(config)()"
   ]
  },
  {
   "cell_type": "code",
   "execution_count": 167,
   "metadata": {},
   "outputs": [
    {
     "data": {
      "application/vnd.jupyter.widget-view+json": {
       "model_id": "d59e95836f3f4a939616afd9d99f5146",
       "version_major": 2,
       "version_minor": 0
      },
      "text/plain": [
       "interactive(children=(Button(description='Run Interact', style=ButtonStyle()), Output()), _dom_classes=('widge…"
      ]
     },
     "metadata": {},
     "output_type": "display_data"
    }
   ],
   "source": [
    "@interact_manual\n",
    "def refresh_folder():\n",
    "    list_group_kv(inspect_weight('MeanPooler_base2_28_233227'))()"
   ]
  },
  {
   "cell_type": "code",
   "execution_count": 169,
   "metadata": {},
   "outputs": [
    {
     "data": {
      "application/vnd.jupyter.widget-view+json": {
       "model_id": "1700be54bbb24bb99dd6bfdd9eb50658",
       "version_major": 2,
       "version_minor": 0
      },
      "text/plain": [
       "interactive(children=(Button(description='Run Interact', style=ButtonStyle()), Output()), _dom_classes=('widge…"
      ]
     },
     "metadata": {},
     "output_type": "display_data"
    }
   ],
   "source": [
    "@interact_manual\n",
    "def refresh_folder():\n",
    "    list_group_kv(inspect_weight('WithAttnHead_base2_28_234832'))()"
   ]
  },
  {
   "cell_type": "code",
   "execution_count": 165,
   "metadata": {},
   "outputs": [
    {
     "name": "stdout",
     "output_type": "stream",
     "text": [
      "Wed Jul 28 23:21:07 2021       \n",
      "+-----------------------------------------------------------------------------+\n",
      "| NVIDIA-SMI 450.51.06    Driver Version: 450.51.06    CUDA Version: 11.0     |\n",
      "|-------------------------------+----------------------+----------------------+\n",
      "| GPU  Name        Persistence-M| Bus-Id        Disp.A | Volatile Uncorr. ECC |\n",
      "| Fan  Temp  Perf  Pwr:Usage/Cap|         Memory-Usage | GPU-Util  Compute M. |\n",
      "|                               |                      |               MIG M. |\n",
      "|===============================+======================+======================|\n",
      "|   0  Tesla V100-PCIE...  Off  | 00000000:3B:00.0 Off |                    0 |\n",
      "| N/A   38C    P0    27W / 250W |      0MiB / 32510MiB |      0%      Default |\n",
      "|                               |                      |                  N/A |\n",
      "+-------------------------------+----------------------+----------------------+\n",
      "|   1  Tesla V100-PCIE...  Off  | 00000000:D8:00.0 Off |                    0 |\n",
      "| N/A   39C    P0    25W / 250W |      0MiB / 32510MiB |      0%      Default |\n",
      "|                               |                      |                  N/A |\n",
      "+-------------------------------+----------------------+----------------------+\n",
      "                                                                               \n",
      "+-----------------------------------------------------------------------------+\n",
      "| Processes:                                                                  |\n",
      "|  GPU   GI   CI        PID   Type   Process name                  GPU Memory |\n",
      "|        ID   ID                                                   Usage      |\n",
      "|=============================================================================|\n",
      "|  No running processes found                                                 |\n",
      "+-----------------------------------------------------------------------------+\n"
     ]
    }
   ],
   "source": [
    "!nvidia-smi"
   ]
  },
  {
   "cell_type": "code",
   "execution_count": 170,
   "metadata": {},
   "outputs": [
    {
     "name": "stdout",
     "output_type": "stream",
     "text": [
      "# On branch main\r\n",
      "# Changes not staged for commit:\r\n",
      "#   (use \"git add <file>...\" to update what will be committed)\r\n",
      "#   (use \"git checkout -- <file>...\" to discard changes in working directory)\r\n",
      "#\r\n",
      "#\tmodified:   lit_train_03_roberta.ipynb\r\n",
      "#\tmodified:   lit_train_13_attmask_mean_ynorm.ipynb\r\n",
      "#\tmodified:   lit_train_14_attmask_mean_cyclical.ipynb\r\n",
      "#\tmodified:   save_converter.ipynb\r\n",
      "#\r\n",
      "# Untracked files:\r\n",
      "#   (use \"git add <file>...\" to include in what will be committed)\r\n",
      "#\r\n",
      "#\t.ipynb_checkpoints/\r\n",
      "#\tapex/\r\n",
      "#\taug_train.csv\r\n",
      "#\tlit_aug_train_01.ipynb\r\n",
      "#\tlit_train_15_swa.ipynb\r\n",
      "#\tlit_train_16_back_to_base.ipynb\r\n",
      "#\tlit_train_17_back_to_base_attn.ipynb\r\n",
      "#\trbt_lg_pre/\r\n",
      "#\ttext_aug.ipynb\r\n",
      "#\tweights_list.ipynb\r\n",
      "no changes added to commit (use \"git add\" and/or \"git commit -a\")\r\n"
     ]
    }
   ],
   "source": [
    "!git status"
   ]
  },
  {
   "cell_type": "code",
   "execution_count": null,
   "metadata": {},
   "outputs": [],
   "source": [
    "!git add *.ipy"
   ]
  }
 ],
 "metadata": {
  "kernelspec": {
   "display_name": "Python 3",
   "language": "python",
   "name": "python3"
  },
  "language_info": {
   "codemirror_mode": {
    "name": "ipython",
    "version": 3
   },
   "file_extension": ".py",
   "mimetype": "text/x-python",
   "name": "python",
   "nbconvert_exporter": "python",
   "pygments_lexer": "ipython3",
   "version": "3.7.6"
  },
  "toc": {
   "base_numbering": 1,
   "nav_menu": {},
   "number_sections": true,
   "sideBar": true,
   "skip_h1_title": false,
   "title_cell": "Table of Contents",
   "title_sidebar": "Contents",
   "toc_cell": false,
   "toc_position": {},
   "toc_section_display": true,
   "toc_window_display": false
  }
 },
 "nbformat": 4,
 "nbformat_minor": 4
}
