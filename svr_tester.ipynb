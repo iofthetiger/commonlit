{
 "cells": [
  {
   "cell_type": "code",
   "execution_count": 10,
   "metadata": {},
   "outputs": [],
   "source": [
    "from forgebox.imports import *\n",
    "from transformers import AutoModel, AutoTokenizer, AutoConfig\n",
    "from tqdm.notebook import tqdm\n",
    "from typing import List, Type\n",
    "from sklearn.svm import SVR\n",
    "from forgebox.ftorch.cuda import CudaHandler\n",
    "from sklearn.metrics import mean_squared_error\n",
    "import pickle\n",
    "import random\n",
    "from torch.utils.data.dataloader import DataLoader, default_collate\n",
    "from copy import deepcopy"
   ]
  },
  {
   "cell_type": "code",
   "execution_count": 11,
   "metadata": {},
   "outputs": [],
   "source": [
    "os.environ[\"CUDA_LAUNCH_BLOCKING\"]=\"1\""
   ]
  },
  {
   "cell_type": "code",
   "execution_count": 12,
   "metadata": {},
   "outputs": [],
   "source": [
    "WEIGHTS = Path(\"/nvme/GCI/public/lit/weights\")"
   ]
  },
  {
   "attachments": {
    "image.png": {
     "image/png": "[encoded data removed]"
    }
   },
   "cell_type": "markdown",
   "metadata": {},
   "source": [
    "![image.png](attachment:image.png)"
   ]
  },
  {
   "cell_type": "code",
   "execution_count": 30,
   "metadata": {},
   "outputs": [
    {
     "name": "stdout",
     "output_type": "stream",
     "text": [
      "AgainstCLS_bs_02_154406\n",
      "0\n",
      "AgainstCLS_bs_01_233421\n",
      "30\n",
      "AgainstCLS_bs_02_092503\n",
      "12\n",
      "AgainstCLS_bs_01_222958\n",
      "30\n",
      "AgainstCLS_bs_01_233917\n",
      "30\n",
      "AgainstCLS_bs_01_201849\n",
      "30\n",
      "AgainstCLS_bs_01_200924\n",
      "35\n",
      "AgainstCLS_bs_02_154538\n",
      "0\n",
      "AgainstCLS_bs_02_102534\n",
      "30\n",
      "AgainstCLS_bs_02_092507\n",
      "30\n",
      "AgainstCLS_bs_01_223109\n",
      "30\n"
     ]
    }
   ],
   "source": [
    "for slug in WEIGHTS.ls():\n",
    "    if \"AgainstCLS_bs_0\" in slug:\n",
    "        print(slug)\n",
    "        print(len(list(f for f in (WEIGHTS/slug).iterdir() if \"tar.gz\" in f.name or \".pkl\" in f.name)))"
   ]
  },
  {
   "cell_type": "code",
   "execution_count": 15,
   "metadata": {},
   "outputs": [],
   "source": [
    "def save_configs(tag, save):\n",
    "    config = AutoConfig.from_pretrained(tag)\n",
    "    tokenizer = AutoTokenizer.from_pretrained(tag)\n",
    "    tokenizer.save_pretrained(save/\"tokenizer\")\n",
    "    config.save_pretrained(save/\"config\")\n",
    "    return tokenizer, config"
   ]
  },
  {
   "cell_type": "code",
   "execution_count": 16,
   "metadata": {},
   "outputs": [
    {
     "name": "stdout",
     "output_type": "stream",
     "text": [
      ">>> 2 cuda devices found >>>\n",
      "Device 0: \n",
      "\tname:Tesla V100-PCIE-32GB\n",
      "\tused:20375MB\tfree:12135MB\n",
      "Device 1: \n",
      "\tname:Tesla V100-PCIE-32GB\n",
      "\tused:23231MB\tfree:9279MB\n",
      "cuda stats refreshed\n",
      "Found the most idle GPU: cuda:0, 12135 MB Mem remained\n"
     ]
    }
   ],
   "source": [
    "DEV = CudaHandler().idle().device"
   ]
  },
  {
   "cell_type": "markdown",
   "metadata": {},
   "source": [
    "## Data"
   ]
  },
  {
   "cell_type": "code",
   "execution_count": 17,
   "metadata": {},
   "outputs": [],
   "source": [
    "train_df = pd.read_csv(\"train.csv\")\n",
    "test_df = pd.read_csv(\"test.csv\")"
   ]
  },
  {
   "cell_type": "code",
   "execution_count": 18,
   "metadata": {},
   "outputs": [],
   "source": [
    "DO_PAIR = True\n",
    "BATCH_SIZE = 32"
   ]
  },
  {
   "cell_type": "code",
   "execution_count": 19,
   "metadata": {},
   "outputs": [],
   "source": [
    "class BaseDataset(Dataset):\n",
    "    def __init__(self, df, tokenizer):\n",
    "        self.df = df\n",
    "        self.indices = df.index\n",
    "        self.tokenizer = tokenizer\n",
    "\n",
    "    def __len__(self,): return len(self.df)\n",
    "\n",
    "    def __getitem__(self, idx):\n",
    "        row_ = dict(self.df.loc[self.indices[idx]])\n",
    "        row = dict((k, v) for k, v in row_.items()\n",
    "                   if k in [\"excerpt\", \"id\", \"target\"])\n",
    "        return row\n",
    "\n",
    "    def collate(self, batch):\n",
    "        batch = default_collate(batch)\n",
    "        batch[\"excerpt\"] = self.tokenizer(batch[\"excerpt\"],\n",
    "                                          truncation=True,\n",
    "                                          return_tensors='pt',\n",
    "                                          return_token_type_ids=False,\n",
    "                                          padding=True,\n",
    "                                          max_length=self.tokenizer.max_len_sentences_pair\n",
    "                                          )\n",
    "        if 'target' in batch:\n",
    "            batch['target'] = batch['target'].float()\n",
    "        return batch\n",
    "\n",
    "\n",
    "class PairDataset(BaseDataset):\n",
    "    def __init__(self, df, tokenizer):\n",
    "        super().__init__(df, tokenizer)\n",
    "\n",
    "    def __getitem__(self, idx):\n",
    "        row_ = dict(self.df.loc[self.indices[idx]])\n",
    "        row = dict((k, v) for k, v in row_.items()\n",
    "                   if k in [\"excerpt\", \"id\", \"target\"])\n",
    "        extra_text = dict(self.df.loc[random.choice(self.indices)])['excerpt']\n",
    "        row['excerpt'] = str(row['excerpt'])+\"[SEP]\"+str(extra_text)\n",
    "        return row\n",
    "\n",
    "\n",
    "def split_k(df, k: int = 5):\n",
    "    kmap = np.random.choice(range(k), size=len(df))\n",
    "    return dict((ki, dict(train=(kmap != ki), valid=(kmap == ki))) for ki in range(5))\n",
    "\n",
    "\n",
    "LitDataset = PairDataset if DO_PAIR else BaseDataset"
   ]
  },
  {
   "cell_type": "code",
   "execution_count": 20,
   "metadata": {},
   "outputs": [],
   "source": [
    "def create_dl(df, tokenizer, ds_class, istrain = True) -> DataLoader:\n",
    "    \"\"\"\n",
    "    Create dataloader from a dataframe\n",
    "    \"\"\"\n",
    "    ds = ds_class(df, tokenizer)\n",
    "    dl = DataLoader(ds, shuffle=False,\n",
    "                    batch_size=BATCH_SIZE if istrain else BATCH_SIZE*2,num_workers=8,\n",
    "                    collate_fn = ds.collate)\n",
    "    return dl"
   ]
  },
  {
   "cell_type": "markdown",
   "metadata": {},
   "source": [
    "### Splits"
   ]
  },
  {
   "cell_type": "code",
   "execution_count": 21,
   "metadata": {},
   "outputs": [
    {
     "data": {
      "text/plain": [
       "{0: {'train': array([ True,  True, False, ...,  True,  True,  True]),\n",
       "  'valid': array([False, False,  True, ..., False, False, False])},\n",
       " 1: {'train': array([ True,  True,  True, ...,  True,  True, False]),\n",
       "  'valid': array([False, False, False, ..., False, False,  True])},\n",
       " 2: {'train': array([ True, False,  True, ...,  True,  True,  True]),\n",
       "  'valid': array([False,  True, False, ..., False, False, False])},\n",
       " 3: {'train': array([False,  True,  True, ..., False,  True,  True]),\n",
       "  'valid': array([ True, False, False, ...,  True, False, False])},\n",
       " 4: {'train': array([ True,  True,  True, ...,  True, False,  True]),\n",
       "  'valid': array([False, False, False, ..., False,  True, False])}}"
      ]
     },
     "execution_count": 21,
     "metadata": {},
     "output_type": "execute_result"
    }
   ],
   "source": [
    "splits = split_k(train_df, 5)\n",
    "splits\n"
   ]
  },
  {
   "cell_type": "markdown",
   "metadata": {},
   "source": [
    "## Model"
   ]
  },
  {
   "cell_type": "code",
   "execution_count": 22,
   "metadata": {},
   "outputs": [],
   "source": [
    "class AttentionHead(nn.Module):\n",
    "    def __init__(self, in_features, hidden_dim):\n",
    "        super().__init__()\n",
    "        self.in_features = in_features\n",
    "        self.middle_features = hidden_dim\n",
    "\n",
    "        self.W = nn.Linear(in_features, hidden_dim)\n",
    "        self.V = nn.Linear(hidden_dim, 1)\n",
    "        self.out_features = hidden_dim\n",
    "\n",
    "    def forward(self, features):\n",
    "        att = torch.tanh(self.W(features))\n",
    "        score = self.V(att)\n",
    "        attention_weights = torch.softmax(score, dim=1)\n",
    "        context_vector = attention_weights * features\n",
    "        context_vector = torch.sum(context_vector, dim=1)\n",
    "\n",
    "        return context_vector\n",
    "\n",
    "\n",
    "class BaseModel(nn.Module):\n",
    "    is_pair = False\n",
    "\n",
    "    def __init__(self):\n",
    "        super().__init__()\n",
    "        self.is_acu_vec = False\n",
    "\n",
    "    def vec_plus(self, vec):\n",
    "        if self.is_acu_vec:\n",
    "            self.vecs.append(vec.clone().cpu().numpy())\n",
    "\n",
    "    def inference(\n",
    "        lit_model, model_weights: Path, data_loader: DataLoader, filename: str\n",
    "    ) -> None:\n",
    "        lit_model.load_state_dict(torch.load(str(model_weights)), strict=False)\n",
    "        lit_model = lit_model.eval()\n",
    "        lit_model = lit_model.cuda(DEV)\n",
    "        results = []\n",
    "        for batch_idx, batch in tqdm(enumerate(data_loader), leave=False, total=len(data_loader)):\n",
    "            ids = batch[\"id\"]\n",
    "            excerpt = batch[\"excerpt\"]\n",
    "            excerpt[\"input_ids\"] = excerpt[\"input_ids\"].cuda(DEV)\n",
    "            excerpt[\"attention_mask\"] = excerpt[\"attention_mask\"].cuda(DEV)\n",
    "            with torch.no_grad():\n",
    "                y_ = lit_model(**excerpt)[:, 0].detach().cpu().numpy()\n",
    "            results.append(pd.DataFrame({\"id\": ids, \"target\": y_}))\n",
    "        pd.concat(results).to_csv(filename, index=False)\n",
    "        lit_model.cpu()\n",
    "\n",
    "    def vec_train_pred(\n",
    "            lit_model, model_weights: Path, data_loader: DataLoader) -> None:\n",
    "        state_dict = torch.load(str(model_weights))\n",
    "        if \"state_dict\" in state_dict:\n",
    "            state_dict = state_dict[\"state_dict\"]\n",
    "        lit_model.load_state_dict(state_dict, strict=False)\n",
    "        lit_model = lit_model.eval()\n",
    "        lit_model = lit_model.cuda(DEV)\n",
    "\n",
    "        lit_model.vecs = []\n",
    "        lit_model.targets = []\n",
    "        lit_model.is_acu_vec = True\n",
    "        for batch_idx, batch in tqdm(enumerate(data_loader), leave=False, total=len(data_loader)):\n",
    "            ids = batch[\"id\"]\n",
    "            excerpt = batch[\"excerpt\"]\n",
    "            excerpt[\"input_ids\"] = excerpt[\"input_ids\"].cuda(DEV)\n",
    "            excerpt[\"attention_mask\"] = excerpt[\"attention_mask\"].cuda(DEV)\n",
    "            y = batch[\"target\"]\n",
    "            lit_model.targets.append(y)\n",
    "            with torch.no_grad():\n",
    "                vec = lit_model.get_vec(excerpt)\n",
    "                lit_model.vec_plus(vec)\n",
    "        lit_model.is_acu_vec = False\n",
    "        lit_model.cpu()\n",
    "        return lit_model.vecs\n",
    "\n",
    "    def vec_test_pred(\n",
    "        lit_model, model_weights: Path, data_loader: DataLoader, filename: str\n",
    "    ) -> None:\n",
    "        lit_model.load_state_dict(torch.load(str(model_weights)), strict=True)\n",
    "        lit_model = lit_model.eval()\n",
    "        lit_model = lit_model.cuda(DEV)\n",
    "        results = []\n",
    "        lit_model.vecs = []\n",
    "        lit_model.is_acu_vec = True\n",
    "        for batch_idx, batch in tqdm(\n",
    "            enumerate(data_loader),\n",
    "            leave=False,\n",
    "            total=len(data_loader)):\n",
    "            \n",
    "            ids = batch[\"id\"]\n",
    "            excerpt = batch[\"excerpt\"]\n",
    "            excerpt[\"input_ids\"] = excerpt[\"input_ids\"].cuda(DEV)\n",
    "            excerpt[\"attention_mask\"] = excerpt[\"attention_mask\"].cuda(DEV)\n",
    "            with torch.no_grad():\n",
    "                y_ = lit_model(**excerpt)[:, 0].detach().cpu().numpy()\n",
    "            results.append(pd.DataFrame({\"id\": ids, \"target\": y_}))\n",
    "        lit_model.is_acu_vec = False\n",
    "        pd.concat(results).to_csv(filename, index=False)\n",
    "        lit_model.cpu()\n",
    "        return lit_model.vecs\n",
    "\n",
    "\n",
    "class PairCLS(BaseModel):\n",
    "    is_pair = True\n",
    "\n",
    "    def __init__(self, base):\n",
    "        super().__init__()\n",
    "        self.base = base\n",
    "        self.config = self.base.config\n",
    "        self.reg = nn.Linear(base.config.hidden_size, 3)\n",
    "\n",
    "    def get_vec(self, excerpt: torch.Tensor) -> torch.Tensor:\n",
    "        return self.base(**excerpt).last_hidden_state[:, 0, :]\n",
    "\n",
    "    def forward(self, **excerpt: torch.Tensor) -> torch.Tensor:\n",
    "        vec = self.get_vec(excerpt)\n",
    "        self.vec_plus(vec)\n",
    "        return self.reg(vec)[:, :1]\n",
    "\n",
    "\n",
    "class AgainstCLS(BaseModel):\n",
    "    def __init__(self, base):\n",
    "        super().__init__()\n",
    "        self.base = base\n",
    "        self.config = self.base.config\n",
    "        self.reg = nn.Linear(base.config.hidden_size, 1)\n",
    "\n",
    "    def get_vec(self, excerpt):\n",
    "        return self.base(**excerpt).last_hidden_state[:, 0, :]\n",
    "\n",
    "    def forward(self, **excerpt: torch.Tensor) -> torch.Tensor:\n",
    "        vec = get_vec(**excerpt)\n",
    "        return self.reg(vec)\n",
    "\n",
    "\n",
    "class CLSReg(BaseModel):\n",
    "    def __init__(self, base):\n",
    "        super().__init__()\n",
    "        self.base = base\n",
    "        self.config = self.base.config\n",
    "        self.reg = nn.Linear(base.config.hidden_size, 1)\n",
    "\n",
    "    def forward(self, **excerpt: torch.Tensor) -> torch.Tensor:\n",
    "        vec = self.get_vec(excerpt)\n",
    "        self.vec_plus(vec)\n",
    "        return self.reg(vec)\n",
    "\n",
    "    def get_vec(self, excerpt: torch.Tensor) -> torch.Tensor:\n",
    "        return self.base(**excerpt).last_hidden_state[:, 0, :]\n",
    "\n",
    "\n",
    "class MeanPooler(BaseModel):\n",
    "    def __init__(self, base):\n",
    "        super().__init__()\n",
    "        self.base = base\n",
    "        self.config = self.base.config\n",
    "        self.reg = nn.Linear(base.config.hidden_size, 1)\n",
    "        self.dropout = nn.Dropout(.2)\n",
    "\n",
    "    def reduce_hidden_state(self, vec, attention_mask):\n",
    "        vec = vec*(attention_mask[..., None])\n",
    "        return vec.sum(dim=1)/(attention_mask.sum(-1)[..., None])\n",
    "\n",
    "    def forward(self, **excerpt: torch.Tensor) -> torch.Tensor:\n",
    "        vec = self.get_vec(excerpt)\n",
    "        self.vec_plus(vec)\n",
    "        return self.reg(vec)\n",
    "\n",
    "    def get_vec(self, excerpt):\n",
    "        attention_mask = excerpt[\"attention_mask\"]\n",
    "        vecs = self.base(**excerpt).last_hidden_state\n",
    "        return self.reduce_hidden_state(vecs, attention_mask)\n",
    "\n",
    "\n",
    "class WithAttnHead(BaseModel):\n",
    "    def __init__(self, base):\n",
    "        super().__init__()\n",
    "        self.base = base\n",
    "        self.config = self.base.config\n",
    "        self.head = AttentionHead(\n",
    "            self.config.hidden_size,\n",
    "            self.config.hidden_size)\n",
    "        self.dout = nn.Dropout(.1)\n",
    "        self.reg = nn.Linear(base.config.hidden_size, 1)\n",
    "\n",
    "    def forward(self, **excerpt: torch.Tensor) -> torch.Tensor:\n",
    "        vec = self.get_vec(excerpt)\n",
    "        self.vec_plus(vec)\n",
    "        return self.reg(self.dout(vec))\n",
    "\n",
    "    def get_vec(self, excerpt: torch.Tensor) -> torch.Tensor:\n",
    "        return self.head(self.base(**excerpt).last_hidden_state)\n",
    "\n",
    "\n",
    "def merge_subs(subs: List[pd.DataFrame]) -> pd.DataFrame:\n",
    "    concat = pd.concat(list(su.set_index(\"id\") for su in subs), 1)\n",
    "    return pd.DataFrame({\"id\": concat.index, \"target\": concat.values.mean(-1)})"
   ]
  },
  {
   "cell_type": "code",
   "execution_count": 23,
   "metadata": {},
   "outputs": [],
   "source": [
    "def rmse(y_pred, y_true):\n",
    "    return np.sqrt(mean_squared_error(y_true, y_pred))"
   ]
  },
  {
   "cell_type": "code",
   "execution_count": 24,
   "metadata": {},
   "outputs": [],
   "source": [
    "def svming(lit_model, model_weights, train_dl, test_dl, weight_idx, fold_idx, C=10, kernel=\"rbf\"):\n",
    "    lit_model.vec_train_pred(model_weights, train_dl)\n",
    "    x = np.concatenate(lit_model.vecs)\n",
    "    y = np.concatenate(lit_model.targets)\n",
    "    svm = SVR(C=C, kernel=kernel, gamma='auto')\n",
    "    svm.fit(x, y)\n",
    "    lit_model.vec_test_pred(\n",
    "        model_weights, test_dl, filename=f\"sub_w{weight_idx}_f{fold_idx}.csv\")\n",
    "    x_test = np.concatenate(lit_model.vecs)\n",
    "    y_test = svm.predict(x_test)\n",
    "\n",
    "    return pd.DataFrame({\"id\": list(test_dl.dataset.df[\"id\"]), \"target\": y_test})\n",
    "\n",
    "\n",
    "def svming_folds(\n",
    "    lit_model, model_weights,\n",
    "    train_dl, weight_idx, C=10, kernel=\"rbf\"\n",
    "):\n",
    "    lit_model.vec_train_pred(model_weights, train_dl)\n",
    "    x = np.concatenate(lit_model.vecs)\n",
    "    y = np.concatenate(lit_model.targets)\n",
    "    print(x[:5,:5])\n",
    "    RMSEs = []\n",
    "    for k, tv in splits.items():\n",
    "        xtrain, ytrain = x[tv[\"train\"]], y[tv[\"train\"]]\n",
    "        xtest, ytest = x[tv[\"valid\"]], y[tv[\"valid\"]]\n",
    "        svm = SVR(C=C, kernel=kernel, gamma='auto')\n",
    "        svm.fit(xtrain, ytrain)\n",
    "        ytest_ = svm.predict(xtest)\n",
    "        with (model_weights.parent/(f\"{model_weights.name}_{k}.tar.gz\")).open(\"wb\") as f:\n",
    "            pickle.dump(svm, f)\n",
    "\n",
    "        RMSEs.append({\"pred\":ytest_,\"fold\":k})\n",
    "    svm = SVR(C=C, kernel=kernel, gamma='auto')\n",
    "    svm.fit(x, y)\n",
    "    with (model_weights.parent/(f\"{model_weights.name}.tar.gz\")).open(\"wb\") as f:\n",
    "        pickle.dump(svm, f)\n",
    "    return RMSEs"
   ]
  },
  {
   "cell_type": "code",
   "execution_count": 25,
   "metadata": {},
   "outputs": [],
   "source": [
    "def pred_svms(tag, save, ModelClass):\n",
    "    save_configs(tag, save)\n",
    "    tokenizer = AutoTokenizer.from_pretrained(tag, use_fast=True)\n",
    "    config = AutoConfig.from_pretrained(save/\"config\")\n",
    "\n",
    "    LitDataset = PairDataset if ModelClass.is_pair else BaseDataset\n",
    "\n",
    "    print(f\"Using datatset class {LitDataset}\")\n",
    "\n",
    "    test_dl = create_dl(test_df, tokenizer=tokenizer,\n",
    "                        ds_class=LitDataset, istrain=False)\n",
    "    train_dl = create_dl(train_df, tokenizer=tokenizer,\n",
    "                         ds_class=LitDataset, istrain=True)\n",
    "\n",
    "    model = AutoModel.from_config(config)\n",
    "    model.pooler = nn.Linear(model.config.hidden_size, 1)\n",
    "\n",
    "    lit_model = ModelClass(model)\n",
    "\n",
    "    WEIGHTS = list(p for p in Path(save).iterdir()\n",
    "                   if p.name[-3:] in [\".h5\", \"kpt\",\"bin\"])\n",
    "    print(WEIGHTS)\n",
    "    svm_preds = []\n",
    "    for i, weight_path in tqdm(list(enumerate(WEIGHTS))):\n",
    "        svm_preds += svming_folds(lit_model, weight_path,\n",
    "                                  train_dl,\n",
    "                                  weight_idx=i)\n",
    "    return pd.DataFrame(svm_preds)"
   ]
  },
  {
   "cell_type": "markdown",
   "metadata": {},
   "source": [
    "## Build SVR"
   ]
  },
  {
   "cell_type": "code",
   "execution_count": null,
   "metadata": {},
   "outputs": [
    {
     "name": "stdout",
     "output_type": "stream",
     "text": [
      "Using datatset class <class '__main__.BaseDataset'>\n",
      "[PosixPath('/nvme/GCI/public/lit/weights/AgainstCLS_bs_02_102534/epoch-10-val_loss-0.34fd3.h5'), PosixPath('/nvme/GCI/public/lit/weights/AgainstCLS_bs_02_102534/epoch-7-val_loss-0.41fd2.h5'), PosixPath('/nvme/GCI/public/lit/weights/AgainstCLS_bs_02_102534/epoch-7-val_loss-0.41fd0.h5'), PosixPath('/nvme/GCI/public/lit/weights/AgainstCLS_bs_02_102534/epoch-12-val_loss-0.39fd4.h5'), PosixPath('/nvme/GCI/public/lit/weights/AgainstCLS_bs_02_102534/epoch-7-val_loss-0.45fd1.h5')]\n"
     ]
    },
    {
     "data": {
      "application/vnd.jupyter.widget-view+json": {
       "model_id": "f0578de54bac496f87aee106329bb831",
       "version_major": 2,
       "version_minor": 0
      },
      "text/plain": [
       "  0%|          | 0/5 [00:00<?, ?it/s]"
      ]
     },
     "metadata": {},
     "output_type": "display_data"
    },
    {
     "data": {
      "application/vnd.jupyter.widget-view+json": {
       "model_id": "",
       "version_major": 2,
       "version_minor": 0
      },
      "text/plain": [
       "  0%|          | 0/89 [00:00<?, ?it/s]"
      ]
     },
     "metadata": {},
     "output_type": "display_data"
    },
    {
     "name": "stdout",
     "output_type": "stream",
     "text": [
      "[[-0.12503955  0.17452016 -1.019507   -0.56013834  1.1429292 ]\n",
      " [-0.17213349  0.27361295 -1.009174   -0.52047145  1.2328502 ]\n",
      " [-0.18213859  0.25557533 -0.813734   -0.23477428  1.0825307 ]\n",
      " [-0.1810584   0.26151186 -0.80786914 -0.22588404  1.0849662 ]\n",
      " [-0.17913096  0.19482408 -1.0790204  -0.6535414   1.2507541 ]]\n"
     ]
    },
    {
     "data": {
      "application/vnd.jupyter.widget-view+json": {
       "model_id": "",
       "version_major": 2,
       "version_minor": 0
      },
      "text/plain": [
       "  0%|          | 0/89 [00:00<?, ?it/s]"
      ]
     },
     "metadata": {},
     "output_type": "display_data"
    },
    {
     "name": "stdout",
     "output_type": "stream",
     "text": [
      "[[ 0.6747504   0.72313976 -0.7012788  -1.3085343   1.5915488 ]\n",
      " [ 0.64635825  0.7711146  -0.60313773 -1.2180829   1.6681602 ]\n",
      " [ 0.52950925  0.7152321  -0.7374993  -1.218741    1.5057473 ]\n",
      " [ 0.35708237  0.74782324 -0.6837339  -1.3645672   1.1000643 ]\n",
      " [ 0.6409148   0.8033733  -0.59312594 -1.2932904   1.9611179 ]]\n"
     ]
    },
    {
     "data": {
      "application/vnd.jupyter.widget-view+json": {
       "model_id": "",
       "version_major": 2,
       "version_minor": 0
      },
      "text/plain": [
       "  0%|          | 0/89 [00:00<?, ?it/s]"
      ]
     },
     "metadata": {},
     "output_type": "display_data"
    },
    {
     "name": "stdout",
     "output_type": "stream",
     "text": [
      "[[-0.14918463 -0.5457363   0.20787343 -0.58258057  1.383842  ]\n",
      " [-0.23047647 -0.4631032   0.21476956 -0.49833792  1.3364964 ]\n",
      " [-0.32225847 -0.666155    0.1871406  -0.47943082  1.2276831 ]\n",
      " [-0.3610151  -0.36879575 -0.10963945 -0.51517755  0.6386685 ]\n",
      " [-0.2515041  -0.4653018   0.02596207 -0.70190936  1.4101228 ]]\n"
     ]
    },
    {
     "data": {
      "application/vnd.jupyter.widget-view+json": {
       "model_id": "",
       "version_major": 2,
       "version_minor": 0
      },
      "text/plain": [
       "  0%|          | 0/89 [00:00<?, ?it/s]"
      ]
     },
     "metadata": {},
     "output_type": "display_data"
    },
    {
     "name": "stdout",
     "output_type": "stream",
     "text": [
      "[[ 0.11779767  0.6313695  -0.4589912  -0.4447339   1.7024349 ]\n",
      " [ 0.11148918  0.81869185 -0.43031383 -0.27749237  1.5798119 ]\n",
      " [ 0.04215658  0.6276091  -0.45620155 -0.26740983  1.4082147 ]\n",
      " [ 0.07083755  0.63235736 -0.59320426 -0.22151594  1.1896138 ]\n",
      " [ 0.0457306   0.6711476  -0.52248144 -0.34094188  1.9266204 ]]\n"
     ]
    }
   ],
   "source": [
    "svr_df = pred_svms(\n",
    "    tag = \"roberta-base\",\n",
    "    save = WEIGHTS/\"AgainstCLS_bs_02_102534\",\n",
    "    ModelClass=AgainstCLS,\n",
    ")"
   ]
  },
  {
   "cell_type": "code",
   "execution_count": null,
   "metadata": {},
   "outputs": [],
   "source": [
    "def score_pred(df):\n",
    "    rmses = []\n",
    "    for fd in range(df.fold.max()+1):\n",
    "        stacked = np.stack(\n",
    "            list(df.query(f\"fold=={fd}\").pred.values)).mean(0)\n",
    "        rmses.append(\n",
    "            rmse(stacked,\n",
    "                 train_df[splits[fd][\"valid\"]][\"target\"].values)\n",
    "        )\n",
    "    return rmses\n",
    "\n",
    "def score_pred2(df):\n",
    "    rmses = []\n",
    "    for fd in range(df.fold.max()+1):\n",
    "        for idx, row in df.query(f\"fold=={fd}\").iterrows():\n",
    "            pred = row[\"pred\"]\n",
    "            rmses.append(\n",
    "            rmse(pred,\n",
    "                 train_df[splits[fd][\"valid\"]][\"target\"].values)\n",
    "        )\n",
    "    return rmses"
   ]
  },
  {
   "cell_type": "code",
   "execution_count": null,
   "metadata": {},
   "outputs": [],
   "source": [
    "scores = score_pred(svr_df)\n",
    "scores, sum(scores)/len(scores)"
   ]
  },
  {
   "cell_type": "code",
   "execution_count": null,
   "metadata": {},
   "outputs": [],
   "source": [
    "score_pred2(svr_df)"
   ]
  },
  {
   "cell_type": "markdown",
   "metadata": {},
   "source": [
    "PairCLS_bs2pre_30_113040, 0.36924000923041045"
   ]
  },
  {
   "cell_type": "markdown",
   "metadata": {},
   "source": [
    "CLSReg_bs2pre_29_170744"
   ]
  },
  {
   "cell_type": "code",
   "execution_count": 55,
   "metadata": {},
   "outputs": [
    {
     "data": {
      "text/plain": [
       "['epoch=2-val_loss=0.53fd1.ckpt', 'epoch=7-val_loss=0.40fd0.ckpt']"
      ]
     },
     "execution_count": 55,
     "metadata": {},
     "output_type": "execute_result"
    }
   ],
   "source": [
    "list(filter(lambda x:x[-4:]==\"ckpt\",(WEIGHTS/\"AgainstCLS_bs_02_092503\").ls()))"
   ]
  },
  {
   "cell_type": "code",
   "execution_count": null,
   "metadata": {},
   "outputs": [],
   "source": []
  }
 ],
 "metadata": {
  "kernelspec": {
   "display_name": "Python 3",
   "language": "python",
   "name": "python3"
  },
  "language_info": {
   "codemirror_mode": {
    "name": "ipython",
    "version": 3
   },
   "file_extension": ".py",
   "mimetype": "text/x-python",
   "name": "python",
   "nbconvert_exporter": "python",
   "pygments_lexer": "ipython3",
   "version": "3.7.6"
  },
  "toc": {
   "base_numbering": 1,
   "nav_menu": {},
   "number_sections": true,
   "sideBar": true,
   "skip_h1_title": false,
   "title_cell": "Table of Contents",
   "title_sidebar": "Contents",
   "toc_cell": false,
   "toc_position": {},
   "toc_section_display": true,
   "toc_window_display": true
  }
 },
 "nbformat": 4,
 "nbformat_minor": 4
}
